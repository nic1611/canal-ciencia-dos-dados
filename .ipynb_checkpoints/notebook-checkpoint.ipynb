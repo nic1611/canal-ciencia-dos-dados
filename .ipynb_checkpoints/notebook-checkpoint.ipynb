{
 "cells": [
  {
   "cell_type": "markdown",
   "metadata": {
    "id": "A1eaRA1fD2PW"
   },
   "source": [
    "![alt text](https://encrypted-tbn0.gstatic.com/images?q=tbn%3AANd9GcTK4gQ9nhwHHaSXMHpeggWg7twwMCgb877smkRmtkmDeDoGF9Z6&usqp=CAU)"
   ]
  },
  {
   "cell_type": "markdown",
   "metadata": {
    "id": "xpmZHxI0D2PX"
   },
   "source": [
    "# <font color='PURPLE'>Ciência dos Dados na Prática</font>\n",
    "\n",
    "# <font color='GREY'> Prevendo Evasão de clientes das Seguradoras </font>\n"
   ]
  },
  {
   "cell_type": "markdown",
   "metadata": {
    "id": "ust1KsN0FyWM"
   },
   "source": [
    "![](https://www.engagebay.com/blog/wp-content/uploads/2019/02/6-Personalization-Customer-Retention-Strategies.gif)"
   ]
  },
  {
   "cell_type": "markdown",
   "metadata": {
    "id": "0qkk7th3U66c"
   },
   "source": [
    "As seguradoras em todo o mundo operam em um ambiente muito **competitivo**\n",
    "\n",
    "![](https://i.pinimg.com/originals/66/c3/04/66c3045029cd252090676d2c397ec02d.gif)"
   ]
  },
  {
   "cell_type": "markdown",
   "metadata": {
    "id": "xMpfk5rmVBan"
   },
   "source": [
    "Com vários aspectos de dados coletados de milhões de clientes, é extremamente difícil analisar e **entender o motivo da decisão** de um cliente de mudar para um provedor de seguros diferente. "
   ]
  },
  {
   "cell_type": "markdown",
   "metadata": {
    "id": "g9qoyd8eZI15"
   },
   "source": [
    "![](https://webengage.com/blog/wp-content/uploads/sites/4/2019/08/Untitled-1.gif)"
   ]
  },
  {
   "cell_type": "markdown",
   "metadata": {
    "id": "M1H8XRpVVNM5"
   },
   "source": [
    "Para uma indústria em que a aquisição e retenção de clientes são igualmente importantes, e a primeira sendo um processo mais caro, **as seguradoras contam com OS DADOS para entender o comportamento do cliente e aumentar a retenção**. \n",
    "\n",
    "![](https://media0.giphy.com/media/sRFEa8lbeC7zbcIZZR/giphy.gif)"
   ]
  },
  {
   "cell_type": "markdown",
   "metadata": {
    "id": "1yliWdcVVU0H"
   },
   "source": [
    "Assim, **saber se um cliente possivelmente quer cancelar o seguro** de antemão dá às seguradoras a oportunidade de **criar estratégias para evitar** que isso realmente aconteça. \n",
    "\n",
    "![](https://thumbs.gfycat.com/InsignificantFlakyCoati-size_restricted.gif)"
   ]
  },
  {
   "cell_type": "markdown",
   "metadata": {
    "id": "MO_zOCKXrTVR"
   },
   "source": [
    "#1° Problema de Negócio\n"
   ]
  },
  {
   "cell_type": "markdown",
   "metadata": {
    "id": "N24X6MOWVtWO"
   },
   "source": [
    "Seu objetivo como cientista de dados é construir um modelo de aprendizado de máquina, uma Máquina Preditiva, que possa **prever se a seguradora perderá um cliente ou não**. Você recebe 16 variáveis anônimas (feature_0 a feature 15) que influenciam a rotatividade de clientes no setor de seguros.\n"
   ]
  },
  {
   "cell_type": "code",
   "execution_count": 2,
   "metadata": {},
   "outputs": [
    {
     "name": "stdout",
     "output_type": "stream",
     "text": [
      "Requirement already satisfied: seaborn in /home/nico/miniconda3/lib/python3.8/site-packages (0.11.1)\n",
      "Requirement already satisfied: numpy>=1.15 in /home/nico/.local/lib/python3.8/site-packages (from seaborn) (1.19.5)\n",
      "Requirement already satisfied: pandas>=0.23 in /home/nico/.local/lib/python3.8/site-packages (from seaborn) (1.2.2)\n",
      "Requirement already satisfied: matplotlib>=2.2 in /home/nico/.local/lib/python3.8/site-packages (from seaborn) (3.3.4)\n",
      "Requirement already satisfied: scipy>=1.0 in /home/nico/.local/lib/python3.8/site-packages (from seaborn) (1.6.1)\n",
      "Requirement already satisfied: kiwisolver>=1.0.1 in /home/nico/.local/lib/python3.8/site-packages (from matplotlib>=2.2->seaborn) (1.3.1)\n",
      "Requirement already satisfied: cycler>=0.10 in /home/nico/.local/lib/python3.8/site-packages (from matplotlib>=2.2->seaborn) (0.10.0)\n",
      "Requirement already satisfied: pyparsing!=2.0.4,!=2.1.2,!=2.1.6,>=2.0.3 in /home/nico/.local/lib/python3.8/site-packages (from matplotlib>=2.2->seaborn) (2.4.7)\n",
      "Requirement already satisfied: pillow>=6.2.0 in /home/nico/.local/lib/python3.8/site-packages (from matplotlib>=2.2->seaborn) (8.1.0)\n",
      "Requirement already satisfied: python-dateutil>=2.1 in /home/nico/.local/lib/python3.8/site-packages (from matplotlib>=2.2->seaborn) (2.8.1)\n",
      "Requirement already satisfied: six in /home/nico/.local/lib/python3.8/site-packages (from cycler>=0.10->matplotlib>=2.2->seaborn) (1.15.0)\n",
      "Requirement already satisfied: pytz>=2017.3 in /home/nico/.local/lib/python3.8/site-packages (from pandas>=0.23->seaborn) (2021.1)\n"
     ]
    }
   ],
   "source": [
    "!pip install seaborn"
   ]
  },
  {
   "cell_type": "code",
   "execution_count": 3,
   "metadata": {
    "id": "rvD7dy6xWhzl"
   },
   "outputs": [
    {
     "ename": "ModuleNotFoundError",
     "evalue": "No module named 'seaborn'",
     "output_type": "error",
     "traceback": [
      "\u001b[0;31m---------------------------------------------------------------------------\u001b[0m",
      "\u001b[0;31mModuleNotFoundError\u001b[0m                       Traceback (most recent call last)",
      "\u001b[0;32m<ipython-input-3-9ed7c1bbfd5c>\u001b[0m in \u001b[0;36m<module>\u001b[0;34m\u001b[0m\n\u001b[1;32m      1\u001b[0m \u001b[0;31m# Mapeamento de Pacotes\u001b[0m\u001b[0;34m\u001b[0m\u001b[0;34m\u001b[0m\u001b[0;34m\u001b[0m\u001b[0m\n\u001b[1;32m      2\u001b[0m \u001b[0;32mimport\u001b[0m \u001b[0mpandas\u001b[0m \u001b[0;32mas\u001b[0m \u001b[0mpd\u001b[0m\u001b[0;34m\u001b[0m\u001b[0;34m\u001b[0m\u001b[0m\n\u001b[0;32m----> 3\u001b[0;31m \u001b[0;32mimport\u001b[0m \u001b[0mseaborn\u001b[0m \u001b[0;32mas\u001b[0m \u001b[0msns\u001b[0m\u001b[0;34m\u001b[0m\u001b[0;34m\u001b[0m\u001b[0m\n\u001b[0m\u001b[1;32m      4\u001b[0m \u001b[0;32mimport\u001b[0m \u001b[0mlightgbm\u001b[0m \u001b[0;32mas\u001b[0m \u001b[0mlgb\u001b[0m\u001b[0;34m\u001b[0m\u001b[0;34m\u001b[0m\u001b[0m\n\u001b[1;32m      5\u001b[0m \u001b[0;32mfrom\u001b[0m \u001b[0msklearn\u001b[0m\u001b[0;34m.\u001b[0m\u001b[0mmetrics\u001b[0m \u001b[0;32mimport\u001b[0m \u001b[0mf1_score\u001b[0m\u001b[0;34m,\u001b[0m \u001b[0maccuracy_score\u001b[0m\u001b[0;34m\u001b[0m\u001b[0;34m\u001b[0m\u001b[0m\n",
      "\u001b[0;31mModuleNotFoundError\u001b[0m: No module named 'seaborn'"
     ]
    }
   ],
   "source": [
    "# Mapeamento de Pacotes\n",
    "import pandas as pd\n",
    "import seaborn as sns\n",
    "import lightgbm as lgb\n",
    "from sklearn.metrics import f1_score, accuracy_score\n",
    "from sklearn.model_selection import train_test_split"
   ]
  },
  {
   "cell_type": "code",
   "execution_count": null,
   "metadata": {
    "colab": {
     "base_uri": "https://localhost:8080/"
    },
    "id": "8U2ShhHOCBn0",
    "outputId": "02a501a2-131c-49ad-f5c9-d221518d415e"
   },
   "outputs": [],
   "source": [
    "#Verificar versões dos pacotes e desabilitar warnings\n",
    "!pip install -q -U watermark\n",
    "%reload_ext watermark\n",
    "%watermark -a \"Ciência dos Dados\" --iversions\n",
    "\n",
    "# Versão da Linguagem Python\n",
    "from platform import python_version\n",
    "print('Versão da Linguagem Python Usada Neste script:', python_version())\n",
    "\n",
    "#Alertas\n",
    "import warnings\n",
    "import sys\n",
    "warnings.simplefilter(action='ignore', category=FutureWarning)\n",
    "warnings.filterwarnings(\"ignore\", category=FutureWarning)\n",
    "if not sys.warnoptions:\n",
    "    warnings.simplefilter(\"ignore\")\n",
    "\n"
   ]
  },
  {
   "cell_type": "markdown",
   "metadata": {
    "id": "fWc99c0im3FN"
   },
   "source": [
    "#2° Análise Exploratória dos Dados\n"
   ]
  },
  {
   "cell_type": "markdown",
   "metadata": {
    "id": "cTvbMtEiHJux"
   },
   "source": [
    "###Fonte de Dados:\n",
    "https://www.machinehack.com/hackathons/insurance_churn_prediction_weekend_hackathon_2/leaderboard\n",
    "\n",
    "![](https://cienciadosdados.com/images/2021/MH.png)"
   ]
  },
  {
   "cell_type": "code",
   "execution_count": null,
   "metadata": {
    "id": "v6NOfYSkXlIc"
   },
   "outputs": [],
   "source": [
    "#Importando os Dados\n",
    "df_train = pd.read_csv('Train.csv')"
   ]
  },
  {
   "cell_type": "code",
   "execution_count": null,
   "metadata": {
    "id": "9hwzE1oO7shE"
   },
   "outputs": [],
   "source": [
    "#Visualizando as 5 primeiras linhas\n",
    "df_train.head(5)"
   ]
  },
  {
   "cell_type": "code",
   "execution_count": null,
   "metadata": {
    "colab": {
     "base_uri": "https://localhost:8080/"
    },
    "id": "5UD3XSU97s0w",
    "outputId": "81a06e65-4dfc-47a9-e560-b839fa600e11"
   },
   "outputs": [],
   "source": [
    "#Contagem de Domínios Distintos\n",
    "df_train.nunique()"
   ]
  },
  {
   "cell_type": "code",
   "execution_count": null,
   "metadata": {
    "colab": {
     "base_uri": "https://localhost:8080/"
    },
    "id": "PGuAAARZ7syE",
    "outputId": "b0073318-d4b7-44e4-b56f-cf15c1e84895"
   },
   "outputs": [],
   "source": [
    "#Verifica Valores Nulos\n",
    "df_train.isna().sum()"
   ]
  },
  {
   "cell_type": "code",
   "execution_count": null,
   "metadata": {
    "colab": {
     "base_uri": "https://localhost:8080/"
    },
    "id": "ZAj1PhVrBRqG",
    "outputId": "fd53fa09-309a-43f6-8ac8-c92e01150969"
   },
   "outputs": [],
   "source": [
    "#Verifica Registros Duplicados\n",
    "df_train.duplicated().sum()"
   ]
  },
  {
   "cell_type": "code",
   "execution_count": null,
   "metadata": {
    "colab": {
     "base_uri": "https://localhost:8080/",
     "height": 316
    },
    "id": "EFZxhKPFcdew",
    "outputId": "1f07fc7d-eaaa-429f-8e2f-fcc22c9f622e"
   },
   "outputs": [],
   "source": [
    "#Estatística Descritiva dos Campos\n",
    "df_train.describe()"
   ]
  },
  {
   "cell_type": "code",
   "execution_count": null,
   "metadata": {
    "colab": {
     "base_uri": "https://localhost:8080/",
     "height": 296
    },
    "id": "1_f6YCCRXoOC",
    "outputId": "e507f1a3-b2d2-4c47-8066-54dd023475c2"
   },
   "outputs": [],
   "source": [
    "#Estatística da Label (target.....Y.....Variável dependente.....caraca é nome demais p mesma coisa)\n",
    "df_train['labels'].value_counts(normalize=True)\n",
    "sns.countplot(df_train['labels'])"
   ]
  },
  {
   "cell_type": "code",
   "execution_count": null,
   "metadata": {
    "colab": {
     "base_uri": "https://localhost:8080/",
     "height": 297
    },
    "id": "2RskYzfO-Svz",
    "outputId": "d7f879cf-1f8c-4845-e8ba-863f077c16fe"
   },
   "outputs": [],
   "source": [
    "#Estatística dos Campos\n",
    "df_train['feature_2'].value_counts()\n",
    "sns.boxplot(df_train['feature_2'])"
   ]
  },
  {
   "cell_type": "code",
   "execution_count": null,
   "metadata": {
    "colab": {
     "base_uri": "https://localhost:8080/",
     "height": 297
    },
    "id": "7s6eS7HW-S4K",
    "outputId": "ee7c9684-11b7-431b-a3c5-475c276660af"
   },
   "outputs": [],
   "source": [
    "#Estatística dos Campos\n",
    "df_train['feature_3'].value_counts()\n",
    "sns.histplot(df_train['feature_3'], bins=50)"
   ]
  },
  {
   "cell_type": "code",
   "execution_count": null,
   "metadata": {
    "colab": {
     "base_uri": "https://localhost:8080/",
     "height": 297
    },
    "id": "YjNEVQJh-S6g",
    "outputId": "440ecb93-e011-48b6-89c4-ef9d16ff1d48"
   },
   "outputs": [],
   "source": [
    "#Estatística dos Campos\n",
    "df_train['feature_5'].value_counts()\n",
    "sns.histplot(df_train['feature_5'], bins=50)"
   ]
  },
  {
   "cell_type": "code",
   "execution_count": null,
   "metadata": {
    "colab": {
     "base_uri": "https://localhost:8080/",
     "height": 297
    },
    "id": "j66jJjok-S-B",
    "outputId": "94a12f42-0950-4195-f524-037bd8fbbb5b"
   },
   "outputs": [],
   "source": [
    "#Estatística dos Campos\n",
    "df_train['feature_11'].value_counts()\n",
    "sns.countplot(df_train['feature_11'])"
   ]
  },
  {
   "cell_type": "code",
   "execution_count": null,
   "metadata": {
    "colab": {
     "base_uri": "https://localhost:8080/",
     "height": 297
    },
    "id": "vkv44_f6AEEM",
    "outputId": "4f83fe8a-dd2f-4e6a-9fb0-9fc09a6cda67"
   },
   "outputs": [],
   "source": [
    "#Estatística dos Campos\n",
    "df_train['feature_13'].value_counts()\n",
    "sns.countplot(df_train['feature_13'])"
   ]
  },
  {
   "cell_type": "code",
   "execution_count": null,
   "metadata": {
    "colab": {
     "base_uri": "https://localhost:8080/",
     "height": 297
    },
    "id": "xNDhx-iWAEG5",
    "outputId": "99b185dc-895a-4e7a-97b2-47ff55091a9c"
   },
   "outputs": [],
   "source": [
    "#Estatística dos Campos\n",
    "df_train['feature_14'].value_counts()\n",
    "sns.countplot(df_train['feature_14'])"
   ]
  },
  {
   "cell_type": "code",
   "execution_count": null,
   "metadata": {
    "colab": {
     "base_uri": "https://localhost:8080/",
     "height": 297
    },
    "id": "7KO3DoubAEKN",
    "outputId": "a609ac7d-919a-4107-e7a9-7b4c2016f54f"
   },
   "outputs": [],
   "source": [
    "#Estatística dos Campos\n",
    "df_train['feature_15'].value_counts()\n",
    "sns.countplot(df_train['feature_15'])"
   ]
  },
  {
   "cell_type": "code",
   "execution_count": null,
   "metadata": {
    "colab": {
     "base_uri": "https://localhost:8080/",
     "height": 330
    },
    "id": "VK06quLxJwhf",
    "outputId": "f86d56cd-560c-4909-8e9d-6d787c054c03"
   },
   "outputs": [],
   "source": [
    "#Mapa de Correlação das Variáveis(features)\n",
    "corr = df_train.corr()\n",
    "sns.heatmap(corr)"
   ]
  },
  {
   "cell_type": "markdown",
   "metadata": {
    "id": "9-_qOBMuI1Mz"
   },
   "source": [
    "#3° Pré-Processamento dos Dados"
   ]
  },
  {
   "cell_type": "markdown",
   "metadata": {
    "id": "_dtpYu2SXsca"
   },
   "source": [
    "### **Balanceamento** **da** **Classe**\n",
    "O conjunto de dados está altamente desbalanceado e precisa de tratamento. Vamos usar uma **Hiperparâmetro** do Algoritmo ao invés de usar funções específicas como o SMOTE."
   ]
  },
  {
   "cell_type": "markdown",
   "metadata": {
    "id": "_RK0hcVDXyEr"
   },
   "source": [
    "### **Seleção das Variáveis - Feature Select**"
   ]
  },
  {
   "cell_type": "code",
   "execution_count": null,
   "metadata": {
    "id": "sp2UcvM4eNg-"
   },
   "outputs": [],
   "source": [
    "#Separando os valores para realizar o Treinamento \n",
    "array = df_train.values"
   ]
  },
  {
   "cell_type": "code",
   "execution_count": null,
   "metadata": {
    "id": "su6WKSobeIR6"
   },
   "outputs": [],
   "source": [
    "# Separando o array em componentes de input e output (variáveis explicativas e Target(Y))\n",
    "X = array[:, [2,3,5,11,13,14,15]]\n",
    "Y = array[:,16]"
   ]
  },
  {
   "cell_type": "code",
   "execution_count": null,
   "metadata": {
    "id": "hXU9ZLEbeIVA"
   },
   "outputs": [],
   "source": [
    "# Definindo o tamanho dos dados de treino e de teste\n",
    "teste_size = 0.38\n",
    "seed = 7\n",
    "\n"
   ]
  },
  {
   "cell_type": "code",
   "execution_count": null,
   "metadata": {
    "id": "BAx5la0cNTz6"
   },
   "outputs": [],
   "source": [
    "# Criando o dataset de treino e de teste\n",
    "X_treino, X_teste, y_treino, y_teste = train_test_split(X, Y, test_size = teste_size, random_state = seed)\n"
   ]
  },
  {
   "cell_type": "markdown",
   "metadata": {
    "id": "C17poDU9m3KQ"
   },
   "source": [
    "#4° Construíndo a Máquina Preditiva \n"
   ]
  },
  {
   "cell_type": "code",
   "execution_count": null,
   "metadata": {
    "id": "MQZ0rgM1NZwW"
   },
   "outputs": [],
   "source": [
    "# Criando a Máquina Preditiva\n",
    "modelo = lgb.LGBMClassifier(\n",
    "                            n_estimators=95,\n",
    "                            learning_rate=0.1,\n",
    "                            scale_pos_weight=3, \n",
    "                            random_state=7,\n",
    "                           )\n",
    "\n"
   ]
  },
  {
   "cell_type": "markdown",
   "metadata": {
    "id": "kXCLZFPxUmtv"
   },
   "source": [
    "### **Explicando os Hiperparâmetros**"
   ]
  },
  {
   "cell_type": "markdown",
   "metadata": {
    "id": "AU-2xZZtsHah"
   },
   "source": [
    "\n",
    "\"**scale_pos_weight**\":  \n",
    "Controle o saldo de pesos positivos e negativos, útil para classes **desbalanceadas**.\n",
    "Geralmente, o Scale_pos_weight é a proporção do número de classe negativa para a classe positiva. Suponha que o conjunto de dados possua 90 observações da classe negativa e 10 observações da classe positiva; o valor ideal de scale_pos_Weight pode ser 9.\n",
    "\n",
    "https://lightgbm.readthedocs.io/en/latest/Parameters.html\n"
   ]
  },
  {
   "cell_type": "markdown",
   "metadata": {
    "id": "NJmSlRWNU348"
   },
   "source": [
    "**\"learning_rate\"**\n",
    "É um parâmetro de ajuste em um algoritmo de otimização que determina o tamanho da etapa em cada iteração enquanto se move em direção a um mínimo de uma função de perda.\n",
    "Metaforicamente é a velocidade com que um modelo de aprendizado de máquina \"aprende\" Costumo usar valores entre [0001, 0.001, 0.01, 0.1, 0.2, 0.3]"
   ]
  },
  {
   "cell_type": "markdown",
   "metadata": {
    "id": "QadYACgvU0rk"
   },
   "source": [
    "**\"n_estimators\"**É o número de árvores de decisão."
   ]
  },
  {
   "cell_type": "markdown",
   "metadata": {
    "id": "fgqrAWEFX8Mn"
   },
   "source": [
    "\"**random_state**\"É uma semente aleatória para gerar os mesmos valores que os meus."
   ]
  },
  {
   "cell_type": "code",
   "execution_count": null,
   "metadata": {
    "id": "eiZJsPB4NyVm"
   },
   "outputs": [],
   "source": [
    "# Treinando o modelo\n",
    "modelo.fit(X_treino, y_treino)\n",
    "\n",
    "# Pront do modelo\n",
    "print(modelo)\n",
    "\n",
    "# Fazendo previsões\n",
    "y_pred = modelo.predict(X_teste)\n",
    "previsoes = [round(value) for value in y_pred]\n",
    "\n"
   ]
  },
  {
   "cell_type": "markdown",
   "metadata": {
    "id": "RdMLL-Z6m3Mg"
   },
   "source": [
    "#5° Avaliação da Máquina Preditiva"
   ]
  },
  {
   "cell_type": "code",
   "execution_count": null,
   "metadata": {
    "colab": {
     "base_uri": "https://localhost:8080/"
    },
    "id": "BuXUpkMGN3MA",
    "outputId": "9960b1f3-3ba1-4387-9580-0b26af484e63"
   },
   "outputs": [],
   "source": [
    "# Avaliando com a Métrica Acurácia\n",
    "accuracy = accuracy_score(y_teste, previsoes)\n",
    "print(\"Acurácia: %.2f%%\" % (accuracy * 100.0))"
   ]
  },
  {
   "cell_type": "code",
   "execution_count": null,
   "metadata": {
    "colab": {
     "base_uri": "https://localhost:8080/"
    },
    "id": "juW4gs0Ze8qJ",
    "outputId": "fdd49fbc-ce51-4495-94a8-1b34e14a9811"
   },
   "outputs": [],
   "source": [
    "# Avaliando com a Métrica da Competição F1_Score\n",
    "F1 = f1_score(y_teste, previsoes)\n",
    "F1"
   ]
  },
  {
   "cell_type": "markdown",
   "metadata": {
    "id": "DJxwDlQ42bOf"
   },
   "source": [
    "\n",
    "# Entre os 17 Primeiros do Mundo na Competição!\n",
    "https://www.machinehack.com/hackathons/insurance_churn_prediction_weekend_hackathon_2/leaderboard\n",
    "\n",
    "![](https://cienciadosdados.com/images/2021/TOP17-2.png)"
   ]
  },
  {
   "cell_type": "markdown",
   "metadata": {
    "id": "UaRlUFrqPMeT"
   },
   "source": [
    "\n",
    "![](https://cienciadosdados.com/images/2021/TOP1.png)"
   ]
  },
  {
   "cell_type": "markdown",
   "metadata": {
    "id": "NjMWsJkW39Fq"
   },
   "source": [
    "# **Resumão**\n",
    "![](https://i.pinimg.com/originals/8a/08/32/8a0832c65e2c644302c106d5157b48a9.gif)\n",
    "\n",
    "* Nesta aula, aprendemos a **Criar Máquina Preditiva** que prevê a se o Cliente quer Abandonar a Seguradora....\n",
    "* Mais 1 Case com **LightGBM**\n",
    "* **Hiperparâmetros**\n",
    "* Seleção de Variáveis - **Feature Selection**\n",
    "* Ficamos entre os 18 primeiros colocados na competição\n",
    "\n",
    "\n"
   ]
  },
  {
   "cell_type": "markdown",
   "metadata": {
    "id": "SLF6vuqmxTUL"
   },
   "source": [
    "#Fim"
   ]
  },
  {
   "cell_type": "markdown",
   "metadata": {
    "id": "_fHqFSvWe94c"
   },
   "source": [
    "## Valeu!"
   ]
  },
  {
   "cell_type": "markdown",
   "metadata": {
    "id": "_2DT4SBZRDP-"
   },
   "source": [
    "### #Links - Ciência dos Dados <a href=\"https://linktr.ee/cienciadosdados\">https://linktr.ee/cienciadosdados</a>"
   ]
  },
  {
   "cell_type": "markdown",
   "metadata": {
    "id": "ThxYRK6DfJ3f"
   },
   "source": [
    "### #YouTube - Mais Aulas como essa no YouTube <a href=\"https://www.youtube.com/watch?v=IaIc5oHd3II&t=1569s\">https://www.youtube.com/watch?v=IaIc5oHd3II&t=1569s</a>"
   ]
  },
  {
   "cell_type": "code",
   "execution_count": null,
   "metadata": {
    "colab": {
     "base_uri": "https://localhost:8080/",
     "height": 223
    },
    "id": "_pg8zEm-Nv6Y",
    "outputId": "4d164054-2995-4c6f-e30d-5c0e4f6e4bc5"
   },
   "outputs": [],
   "source": [
    "from IPython.core.display import HTML\n",
    "HTML('<iframe width=\"380\" height=\"202\" src=\"https://www.youtube.com/embed/vp_-ZIUst6c\" frameborder=\"0\" allow=\"accelerometer; autoplay; clipboard-write; encrypted-media; gyroscope; picture-in-picture\" allowfullscreen></iframe>')"
   ]
  }
 ],
 "metadata": {
  "colab": {
   "collapsed_sections": [],
   "name": "Prevendo se a Seguradora Perderá um Cliente.ipynb",
   "provenance": []
  },
  "kernelspec": {
   "display_name": "Python 3",
   "language": "python",
   "name": "python3"
  },
  "language_info": {
   "codemirror_mode": {
    "name": "ipython",
    "version": 3
   },
   "file_extension": ".py",
   "mimetype": "text/x-python",
   "name": "python",
   "nbconvert_exporter": "python",
   "pygments_lexer": "ipython3",
   "version": "3.8.5"
  }
 },
 "nbformat": 4,
 "nbformat_minor": 1
}
